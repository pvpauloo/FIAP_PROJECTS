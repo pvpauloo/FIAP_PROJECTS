{
 "cells": [
  {
   "cell_type": "code",
   "execution_count": 3,
   "metadata": {},
   "outputs": [
    {
     "name": "stdout",
     "output_type": "stream",
     "text": [
      "Id         2538\n",
      "Control    2538\n",
      "Produto    2538\n",
      "Tipo       2538\n",
      "Ano        2538\n",
      "Valor      2538\n",
      "dtype: int64\n"
     ]
    }
   ],
   "source": [
    "import pandas as pd\n",
    "\n",
    "df = pd.read_json('Producao.json')\n",
    "\n",
    "print(df.count())"
   ]
  },
  {
   "cell_type": "code",
   "execution_count": 4,
   "metadata": {},
   "outputs": [
    {
     "name": "stdout",
     "output_type": "stream",
     "text": [
      "<class 'pandas.core.frame.DataFrame'>\n",
      "RangeIndex: 2538 entries, 0 to 2537\n",
      "Data columns (total 6 columns):\n",
      " #   Column   Non-Null Count  Dtype \n",
      "---  ------   --------------  ----- \n",
      " 0   Id       2538 non-null   int64 \n",
      " 1   Control  2538 non-null   object\n",
      " 2   Produto  2538 non-null   object\n",
      " 3   Tipo     2538 non-null   object\n",
      " 4   Ano      2538 non-null   int64 \n",
      " 5   Valor    2538 non-null   int64 \n",
      "dtypes: int64(3), object(3)\n",
      "memory usage: 119.1+ KB\n",
      "None\n"
     ]
    }
   ],
   "source": [
    "print(df.info())"
   ]
  },
  {
   "cell_type": "code",
   "execution_count": 5,
   "metadata": {},
   "outputs": [
    {
     "name": "stdout",
     "output_type": "stream",
     "text": [
      "   Id    Control Produto                           Tipo   Ano      Valor\n",
      "0   2   vm_Tinto   Tinto                  VINHO DE MESA  1970  174224052\n",
      "1   3  vm_Branco  Branco                  VINHO DE MESA  1970     748400\n",
      "2   4  vm_Rosado  Rosado                  VINHO DE MESA  1970   42236152\n",
      "3   6   vv_Tinto   Tinto  VINHO FINO DE MESA (VINIFERA)  1970    7591557\n",
      "4   7  vv_Branco  Branco  VINHO FINO DE MESA (VINIFERA)  1970   15562889\n"
     ]
    }
   ],
   "source": [
    "print(df.head())"
   ]
  },
  {
   "cell_type": "code",
   "execution_count": 6,
   "metadata": {},
   "outputs": [
    {
     "name": "stdout",
     "output_type": "stream",
     "text": [
      "Index(['Id', 'Control', 'Produto', 'Tipo', 'Ano', 'Valor'], dtype='object')\n"
     ]
    }
   ],
   "source": [
    "print(df.columns)"
   ]
  },
  {
   "cell_type": "code",
   "execution_count": 9,
   "metadata": {},
   "outputs": [
    {
     "name": "stdout",
     "output_type": "stream",
     "text": [
      "Tipo\n",
      "DERIVADOS                        1944\n",
      "SUCO                              270\n",
      "VINHO DE MESA                     162\n",
      "VINHO FINO DE MESA (VINIFERA)     162\n",
      "Name: count, dtype: int64\n"
     ]
    }
   ],
   "source": [
    "\n",
    "# Contagem de valores únicos na coluna \n",
    "print(df['Tipo'].value_counts())"
   ]
  },
  {
   "cell_type": "code",
   "execution_count": 12,
   "metadata": {},
   "outputs": [
    {
     "name": "stdout",
     "output_type": "stream",
     "text": [
      "Valor\n",
      "680             1\n",
      "1628000         1\n",
      "661270          1\n",
      "1812367         1\n",
      "118180926       1\n",
      "             ... \n",
      "15000           5\n",
      "3000            5\n",
      "2000            5\n",
      "1000            6\n",
      "0            1642\n",
      "Name: count, Length: 859, dtype: int64\n"
     ]
    }
   ],
   "source": [
    "print(df['Valor'].value_counts().sort_values())  # Ordena por ano\n"
   ]
  },
  {
   "cell_type": "code",
   "execution_count": 13,
   "metadata": {},
   "outputs": [
    {
     "name": "stdout",
     "output_type": "stream",
     "text": [
      "                Id          Ano         Valor\n",
      "count  2538.000000  2538.000000  2.538000e+03\n",
      "mean     27.574468  1996.500000  6.597366e+06\n",
      "std      14.188111    15.588856  2.493863e+07\n",
      "min       2.000000  1970.000000  0.000000e+00\n",
      "25%      16.000000  1983.000000  0.000000e+00\n",
      "50%      28.000000  1996.500000  0.000000e+00\n",
      "75%      40.000000  2010.000000  2.413625e+05\n",
      "max      51.000000  2023.000000  2.541724e+08\n"
     ]
    }
   ],
   "source": [
    "# Estatísticas descritivas de colunas numéricas\n",
    "print(df.describe())"
   ]
  },
  {
   "cell_type": "code",
   "execution_count": 14,
   "metadata": {},
   "outputs": [
    {
     "name": "stdout",
     "output_type": "stream",
     "text": [
      "         Control Produto       Tipo\n",
      "count       2538    2538       2538\n",
      "unique        47      44          4\n",
      "top     vm_Tinto   Tinto  DERIVADOS\n",
      "freq          54     108       1944\n"
     ]
    }
   ],
   "source": [
    "# Estatísticas descritivas de colunas categóricas\n",
    "print(df.describe(include='object'))"
   ]
  },
  {
   "cell_type": "code",
   "execution_count": 18,
   "metadata": {},
   "outputs": [
    {
     "name": "stdout",
     "output_type": "stream",
     "text": [
      "      Ano                           Tipo  Contagem\n",
      "0    1970                      DERIVADOS        36\n",
      "1    1970                           SUCO         5\n",
      "2    1970                  VINHO DE MESA         3\n",
      "3    1970  VINHO FINO DE MESA (VINIFERA)         3\n",
      "4    1971                      DERIVADOS        36\n",
      "..    ...                            ...       ...\n",
      "211  2022  VINHO FINO DE MESA (VINIFERA)         3\n",
      "212  2023                      DERIVADOS        36\n",
      "213  2023                           SUCO         5\n",
      "214  2023                  VINHO DE MESA         3\n",
      "215  2023  VINHO FINO DE MESA (VINIFERA)         3\n",
      "\n",
      "[216 rows x 3 columns]\n"
     ]
    }
   ],
   "source": [
    "#['Id', 'Control', 'Produto', 'Tipo', 'Ano', 'Valor']\n",
    "# Contar registros por 'Ano' e 'Tipo'\n",
    "contagem = df.groupby(['Ano', 'Tipo']).size().reset_index(name='Contagem')\n",
    "print(contagem)"
   ]
  },
  {
   "cell_type": "code",
   "execution_count": 24,
   "metadata": {},
   "outputs": [
    {
     "name": "stdout",
     "output_type": "stream",
     "text": [
      "Produto\n",
      "Espumante orgânico                                 3777\n",
      "Pisco                                              4372\n",
      "Licor de bagaceira                                 7307\n",
      "Destilado alcoólico simples de bagaceira           7800\n",
      "Brandy                                            25286\n",
      "Vinho acidificado                                 67500\n",
      "Vinho Composto                                   163000\n",
      "Filtrado                                         167000\n",
      "Néctar de uva                                    182822\n",
      "Mosto parcialmente fermentado                    543510\n",
      "Suco de uva reconstituído                        643556\n",
      "Vinagre                                          762582\n",
      "Espumante                                        769160\n",
      "Borra seca                                       871877\n",
      "Vinho leve                                       891800\n",
      "Outros derivados                                 899851\n",
      "Jeropiga                                         976540\n",
      "Vinho licoroso                                  1010762\n",
      "Bebida de uva                                   1107163\n",
      "Mosto dessulfitado                              1538000\n",
      "Destilado                                       2342496\n",
      "Suco de uva orgânico                            2394539\n",
      "Licorosos                                       2532326\n",
      "Compostos                                       3117800\n",
      "Frisante                                        3649759\n",
      "Suco de uva adoçado                             5008118\n",
      "Mosto de uva com bagaço                         6160330\n",
      "Base espumante                                  6348269\n",
      "Mistelas                                        6638710\n",
      "Mosto concentrado                               7199297\n",
      "Base Champenoise champanha                      7431405\n",
      "Espumante moscatel                              7625544\n",
      "Bagaceira                                       8672865\n",
      "Base Charmat champanha                         20130540\n",
      "Polpa de uva                                   33178490\n",
      "Vinho orgânico                                 40224375\n",
      "Base espumante moscatel                        41454618\n",
      "Borra líquida                                  93926300\n",
      "Suco de uva concentrado                       686207732\n",
      "Suco de uva integral                          708432016\n",
      "Rosado                                       1034988365\n",
      "Mosto simples                                2224379987\n",
      "Branco                                       2904682165\n",
      "Tinto                                        8876745662\n",
      "Name: Valor, dtype: int64\n"
     ]
    }
   ],
   "source": [
    "# Soma por ano\n",
    "soma_por_ano = df.groupby('Produto')['Valor'].sum().sort_values()\n",
    "print(soma_por_ano)"
   ]
  },
  {
   "cell_type": "code",
   "execution_count": null,
   "metadata": {},
   "outputs": [],
   "source": []
  }
 ],
 "metadata": {
  "kernelspec": {
   "display_name": "base",
   "language": "python",
   "name": "python3"
  },
  "language_info": {
   "codemirror_mode": {
    "name": "ipython",
    "version": 3
   },
   "file_extension": ".py",
   "mimetype": "text/x-python",
   "name": "python",
   "nbconvert_exporter": "python",
   "pygments_lexer": "ipython3",
   "version": "3.12.7"
  }
 },
 "nbformat": 4,
 "nbformat_minor": 2
}
